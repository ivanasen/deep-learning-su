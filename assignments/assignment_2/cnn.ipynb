{
 "cells": [
  {
   "cell_type": "markdown",
   "metadata": {
    "colab_type": "text",
    "id": "4embtkV0pNxM"
   },
   "source": [
    "Deep Learning with Tensorflow\n",
    "=============\n",
    "\n",
    "Assignment II\n",
    "------------\n",
    "\n",
    "During one of the lectures in [Lab 1](https://deep-learning-su.github.io/labs/lab-1/) we trained fully connected network to classify [notMNIST](http://yaroslavvb.blogspot.com/2011/09/notmnist-dataset.html) characters. \n",
    "\n",
    "The goal of this assignment is make the neural network convolutional.\n",
    "\n",
    "For this exercise, you would need the `notMNIST.pickle` created in `Lab 1`. You can obtain it by rerunning the given paragraphs without having to solve the problems (although it is highly recommended to do it if you haven't already)."
   ]
  },
  {
   "cell_type": "code",
   "metadata": {
    "cellView": "both",
    "colab_type": "code",
    "id": "tm2CQN_Cpwj0",
    "colab": {}
   },
   "source": [
    "# These are all the modules we'll be using later. Make sure you can import them\n",
    "# before proceeding further.\n",
    "from __future__ import print_function\n",
    "import numpy as np\n",
    "import tensorflow as tf\n",
    "from six.moves import cPickle as pickle\n",
    "from six.moves import range\n",
    "import os"
   ],
   "execution_count": 1,
   "outputs": []
  },
  {
   "cell_type": "code",
   "metadata": {
    "cellView": "both",
    "colab_type": "code",
    "id": "y3-cj1bpmuxc",
    "colab": {}
   },
   "source": [
    "data_dir = 'data/'\n",
    "pickle_file = os.path.join(data_dir, 'notMNIST.pickle')\n",
    "\n",
    "with open(pickle_file, 'rb') as f:\n",
    "  save = pickle.load(f)\n",
    "  train_dataset = save['train_dataset']\n",
    "  train_labels = save['train_labels']\n",
    "  valid_dataset = save['valid_dataset']\n",
    "  valid_labels = save['valid_labels']\n",
    "  test_dataset = save['test_dataset']\n",
    "  test_labels = save['test_labels']\n",
    "  del save  # hint to help gc free up memory\n",
    "  print('Training set', train_dataset.shape, train_labels.shape)\n",
    "  print('Validation set', valid_dataset.shape, valid_labels.shape)\n",
    "  print('Test set', test_dataset.shape, test_labels.shape)"
   ],
   "execution_count": 2,
   "outputs": [
    {
     "output_type": "stream",
     "name": "stdout",
     "text": "Training set (200000, 28, 28) (200000,)\nValidation set (10000, 28, 28) (10000,)\nTest set (10000, 28, 28) (10000,)\n"
    }
   ]
  },
  {
   "cell_type": "markdown",
   "metadata": {
    "colab_type": "text",
    "id": "L7aHrm6nGDMB"
   },
   "source": [
    "Reformat into a TensorFlow-friendly shape:\n",
    "- convolutions need the image data formatted as a cube (width by height by #channels)\n",
    "- labels as float 1-hot encodings."
   ]
  },
  {
   "cell_type": "code",
   "metadata": {
    "cellView": "both",
    "colab_type": "code",
    "id": "IRSyYiIIGIzS",
    "colab": {}
   },
   "source": [
    "image_size = 28\n",
    "num_labels = 10\n",
    "num_channels = 1 # grayscale\n",
    "\n",
    "import numpy as np\n",
    "\n",
    "def reformat(dataset, labels):\n",
    "  dataset = dataset.reshape(\n",
    "    (-1, image_size, image_size, num_channels)).astype(np.float32)\n",
    "  labels = (np.arange(num_labels) == labels[:,None]).astype(np.float32)\n",
    "  return dataset, labels\n",
    "train_dataset, train_labels = reformat(train_dataset, train_labels)\n",
    "valid_dataset, valid_labels = reformat(valid_dataset, valid_labels)\n",
    "test_dataset, test_labels = reformat(test_dataset, test_labels)\n",
    "\n",
    "print('Training set', train_dataset.shape, train_labels.shape)\n",
    "print('Validation set', valid_dataset.shape, valid_labels.shape)\n",
    "print('Test set', test_dataset.shape, test_labels.shape)"
   ],
   "execution_count": 3,
   "outputs": [
    {
     "output_type": "stream",
     "name": "stdout",
     "text": "Training set (200000, 28, 28, 1) (200000, 10)\nValidation set (10000, 28, 28, 1) (10000, 10)\nTest set (10000, 28, 28, 1) (10000, 10)\n"
    }
   ]
  },
  {
   "cell_type": "code",
   "metadata": {
    "cellView": "both",
    "colab_type": "code",
    "id": "AgQDIREv02p1",
    "colab": {}
   },
   "source": [
    "def accuracy(predictions, labels):\n",
    "  return (100.0 * np.sum(np.argmax(predictions, 1) == np.argmax(labels, 1))\n",
    "          / predictions.shape[0])"
   ],
   "execution_count": 4,
   "outputs": []
  },
  {
   "cell_type": "markdown",
   "metadata": {
    "colab_type": "text",
    "id": "5rhgjmROXu2O"
   },
   "source": [
    "## Problem 1\n",
    "Let's build a small network with two convolutional layers, followed by one fully connected layer. Convolutional networks are more expensive computationally, so we'll limit its depth and number of fully connected nodes.\n",
    "\n",
    "Edit the snippet bellow by changing the `model` function.\n",
    "\n",
    "### 1.1 - Define the model\n",
    "Implement the `model` function bellow. Take a look at the following TF functions:\n",
    "- **tf.nn.conv2d(X,W1, strides = [1,s,s,1], padding = 'SAME'):** given an input $X$ and a group of filters $W1$, this function convolves $W1$'s filters on X. The third input ([1,f,f,1]) represents the strides for each dimension of the input (m, n_H_prev, n_W_prev, n_C_prev). You can read the full documentation [here](https://www.tensorflow.org/api_docs/python/tf/nn/conv2d)\n",
    "- **tf.nn.relu(Z1):** computes the elementwise ReLU of Z1 (which can be any shape). You can read the full documentation [here.](https://www.tensorflow.org/api_docs/python/tf/nn/relu)\n",
    "\n",
    "### 1.2 - Compute loss\n",
    "\n",
    "Implement the `compute_loss` function below. You might find these two functions helpful: \n",
    "\n",
    "- **tf.nn.softmax_cross_entropy_with_logits(logits = Z3, labels = Y):** computes the softmax entropy loss. This function both computes the softmax activation function as well as the resulting loss. You can check the full documentation  [here.](https://www.tensorflow.org/api_docs/python/tf/nn/softmax_cross_entropy_with_logits)\n",
    "- **tf.reduce_mean:** computes the mean of elements across dimensions of a tensor. Use this to sum the losses over all the examples to get the overall cost. You can check the full documentation [here.](https://www.tensorflow.org/api_docs/python/tf/reduce_mean)\n"
   ]
  },
  {
   "cell_type": "code",
   "execution_count": 5,
   "metadata": {},
   "outputs": [],
   "source": [
    "def weight_variable(shape):\n",
    "  # uses default std. deviation\n",
    "  initial = tf.truncated_normal(shape, stddev=0.1)\n",
    "  return tf.Variable(initial)\n",
    "\n",
    "def bias_variable(shape):\n",
    "  # uses default bias\n",
    "  initial = tf.constant(0.1, shape=shape)\n",
    "  return tf.Variable(initial)"
   ]
  },
  {
   "cell_type": "code",
   "execution_count": 6,
   "outputs": [],
   "source": [
    "def compute_loss(labels, logits):\n",
    "    entropy_loss = tf.nn.softmax_cross_entropy_with_logits(logits=logits, labels=labels)\n",
    "    return tf.reduce_mean(entropy_loss)"
   ],
   "metadata": {
    "collapsed": false,
    "pycharm": {
     "name": "#%%\n"
    }
   }
  },
  {
   "cell_type": "code",
   "metadata": {
    "cellView": "both",
    "colab_type": "code",
    "id": "IZYv70SvvOan",
    "colab": {}
   },
   "source": [
    "batch_size = 16\n",
    "patch_size = 5\n",
    "depth = 16 # Number of filters?\n",
    "num_hidden = 64 # Size of the fully connected layer?\n",
    "\n",
    "graph = tf.Graph()\n",
    "\n",
    "with graph.as_default():\n",
    "\n",
    "  # Input data.\n",
    "  tf_train_dataset = tf.placeholder(\n",
    "    tf.float32, shape=(batch_size, image_size, image_size, num_channels))\n",
    "  tf_train_labels = tf.placeholder(tf.float32, shape=(batch_size, num_labels))\n",
    "  tf_valid_dataset = tf.constant(valid_dataset)\n",
    "  tf_test_dataset = tf.constant(test_dataset)\n",
    "\n",
    "  # Convolutional Layer 1\n",
    "  W_conv_1 = weight_variable([patch_size, patch_size, 1, depth])\n",
    "  W_bias_1 = bias_variable([depth])\n",
    "\n",
    "  # Convolutional Layer 2\n",
    "  W_conv_2 = weight_variable([patch_size, patch_size, depth, depth])\n",
    "  W_bias_2 = bias_variable([depth])\n",
    "  \n",
    "  # Dense Layer 1\n",
    "  W_dense_1 = weight_variable([7 * 7 * 16, num_hidden])\n",
    "  W_dense_1_bias = bias_variable([num_hidden])\n",
    "\n",
    "  # Dense Layer 2\n",
    "  W_dense_2 = weight_variable([num_hidden, num_labels])\n",
    "  W_dense_2_bias = bias_variable([num_labels])\n",
    "  \n",
    "  # Model.\n",
    "  def model(data):\n",
    "    # define a simple network with \n",
    "    # * 2 convolutional layers with 5x5 filters each using stride 2 and zero padding\n",
    "    # * one fully connected layer\n",
    "    # return the logits (last layer)\n",
    "\n",
    "    conv_1_out = tf.nn.relu(tf.nn.conv2d(data, W_conv_1, [1, 2, 2, 1], 'SAME') + W_bias_1)\n",
    "    conv_2_out = tf.nn.relu(tf.nn.conv2d(conv_1_out, W_conv_2, [1, 2, 2, 1], 'SAME') + W_bias_2)\n",
    "\n",
    "    # Flatten\n",
    "    flat = tf.reshape(conv_2_out, [-1, 7 * 7 * 16])\n",
    "\n",
    "    dense_1_out = tf.nn.relu(tf.matmul(flat, W_dense_1) + W_dense_1_bias)   \n",
    "    logits = tf.matmul(dense_1_out, W_dense_2) + W_dense_2_bias\n",
    "\n",
    "    return logits\n",
    "\n",
    "  # Training computation.\n",
    "  logits = model(tf_train_dataset)\n",
    "  loss = compute_loss(tf_train_labels, logits)\n",
    "    \n",
    "  # Optimizer.\n",
    "  optimizer = tf.train.GradientDescentOptimizer(0.05).minimize(loss)\n",
    "  \n",
    "  # Predictions for the training, validation, and test data.\n",
    "  train_prediction = tf.nn.softmax(logits)\n",
    "  valid_prediction = tf.nn.softmax(model(tf_valid_dataset))\n",
    "  test_prediction = tf.nn.softmax(model(tf_test_dataset))"
   ],
   "execution_count": 7,
   "outputs": [
    {
     "output_type": "stream",
     "name": "stdout",
     "text": "WARNING:tensorflow:From /home/ivanasen/Tools/anaconda3/envs/py3.6/lib/python3.6/site-packages/tensorflow/python/framework/op_def_library.py:263: colocate_with (from tensorflow.python.framework.ops) is deprecated and will be removed in a future version.\nInstructions for updating:\nColocations handled automatically by placer.\nWARNING:tensorflow:From <ipython-input-6-fddc41529dbc>:2: softmax_cross_entropy_with_logits (from tensorflow.python.ops.nn_ops) is deprecated and will be removed in a future version.\nInstructions for updating:\n\nFuture major versions of TensorFlow will allow gradients to flow\ninto the labels input on backprop by default.\n\nSee `tf.nn.softmax_cross_entropy_with_logits_v2`.\n\n"
    }
   ]
  },
  {
   "cell_type": "markdown",
   "metadata": {
    "id": "ZkzpbHET-m8S",
    "colab_type": "text"
   },
   "source": [
    "### 1.3 - Measure the accuracy and tune your model\n",
    "\n",
    "Run the snippet bellow to measure the accuracy of your model. Try to achieve a test accuracy of around 80%. Iterate on the filters size."
   ]
  },
  {
   "cell_type": "code",
   "metadata": {
    "cellView": "both",
    "colab_type": "code",
    "id": "noKFb2UovVFR",
    "colab": {}
   },
   "source": [
    "num_steps = 1001\n",
    "\n",
    "def train(graph, optimizer, train_prediction, valid_prediction, test_prediction):\n",
    "  with tf.Session(graph=graph) as session:\n",
    "    tf.global_variables_initializer().run()\n",
    "\n",
    "    print('Initialized')\n",
    "    \n",
    "    for step in range(num_steps):\n",
    "      offset = (step * batch_size) % (train_labels.shape[0] - batch_size)\n",
    "      batch_data = train_dataset[offset:(offset + batch_size), :, :, :]\n",
    "      batch_labels = train_labels[offset:(offset + batch_size), :]\n",
    "      feed_dict = {tf_train_dataset : batch_data, tf_train_labels : batch_labels}\n",
    "      _, l, predictions = session.run(\n",
    "        [optimizer, loss, train_prediction], feed_dict=feed_dict)\n",
    "      if (step % 50 == 0):\n",
    "        print(f'Minibatch loss at step {step}: {l}')\n",
    "        print('Minibatch accuracy: %.1f%%' % accuracy(predictions, batch_labels))\n",
    "        print('Validation accuracy: %.1f%%' % accuracy(valid_prediction.eval(), valid_labels))\n",
    "    print('Test accuracy: %.1f%%' % accuracy(test_prediction.eval(), test_labels))\n",
    "\n",
    "train(graph, optimizer, train_prediction, valid_prediction, test_prediction)"
   ],
   "execution_count": 8,
   "outputs": [
    {
     "output_type": "stream",
     "name": "stdout",
     "text": "Initialized\nMinibatch loss at step 0: 2.3788223266601562\nMinibatch accuracy: 6.2%\nValidation accuracy: 6.0%\nMinibatch loss at step 50: 1.3744609355926514\nMinibatch accuracy: 56.2%\nValidation accuracy: 62.8%\nMinibatch loss at step 100: 0.7295019626617432\nMinibatch accuracy: 75.0%\nValidation accuracy: 74.8%\nMinibatch loss at step 150: 1.0292255878448486\nMinibatch accuracy: 68.8%\nValidation accuracy: 78.5%\nMinibatch loss at step 200: 0.4064968228340149\nMinibatch accuracy: 93.8%\nValidation accuracy: 78.3%\nMinibatch loss at step 250: 1.0713427066802979\nMinibatch accuracy: 68.8%\nValidation accuracy: 78.6%\nMinibatch loss at step 300: 0.7452545762062073\nMinibatch accuracy: 81.2%\nValidation accuracy: 77.8%\nMinibatch loss at step 350: 0.5676711797714233\nMinibatch accuracy: 81.2%\nValidation accuracy: 79.0%\nMinibatch loss at step 400: 0.4403267204761505\nMinibatch accuracy: 87.5%\nValidation accuracy: 80.8%\nMinibatch loss at step 450: 0.4247795343399048\nMinibatch accuracy: 93.8%\nValidation accuracy: 80.8%\nMinibatch loss at step 500: 0.8859221935272217\nMinibatch accuracy: 75.0%\nValidation accuracy: 81.8%\nMinibatch loss at step 550: 0.34657931327819824\nMinibatch accuracy: 87.5%\nValidation accuracy: 81.6%\nMinibatch loss at step 600: 0.7358095645904541\nMinibatch accuracy: 68.8%\nValidation accuracy: 82.3%\nMinibatch loss at step 650: 1.1002391576766968\nMinibatch accuracy: 81.2%\nValidation accuracy: 82.6%\nMinibatch loss at step 700: 0.3854975700378418\nMinibatch accuracy: 93.8%\nValidation accuracy: 82.1%\nMinibatch loss at step 750: 0.9528946280479431\nMinibatch accuracy: 62.5%\nValidation accuracy: 82.0%\nMinibatch loss at step 800: 0.7707643508911133\nMinibatch accuracy: 75.0%\nValidation accuracy: 83.2%\nMinibatch loss at step 850: 0.07289896160364151\nMinibatch accuracy: 100.0%\nValidation accuracy: 83.4%\nMinibatch loss at step 900: 1.2482373714447021\nMinibatch accuracy: 62.5%\nValidation accuracy: 83.2%\nMinibatch loss at step 950: 0.41084563732147217\nMinibatch accuracy: 87.5%\nValidation accuracy: 83.7%\nMinibatch loss at step 1000: 0.4318543076515198\nMinibatch accuracy: 81.2%\nValidation accuracy: 83.3%\nTest accuracy: 89.6%\n"
    }
   ]
  },
  {
   "cell_type": "markdown",
   "metadata": {
    "colab_type": "text",
    "id": "KedKkn4EutIK"
   },
   "source": [
    "---\n",
    "Problem 2\n",
    "---------\n",
    "\n",
    "The convolutional model above uses convolutions with stride 2 to reduce the dimensionality. Replace the strides by a max pooling operation (`nn.max_pool()`) of stride 2 and kernel size 2.\n",
    "\n",
    "---"
   ]
  },
  {
   "cell_type": "code",
   "execution_count": 15,
   "metadata": {},
   "outputs": [],
   "source": [
    "batch_size = 16\n",
    "patch_size = 5\n",
    "depth = 16 # Number of filters?\n",
    "num_hidden = 64 # Size of the fully connected layer?\n",
    "\n",
    "graph_pool = tf.Graph()\n",
    "\n",
    "with graph_pool.as_default():\n",
    "\n",
    "  # Input data.\n",
    "  tf_train_dataset = tf.placeholder(\n",
    "    tf.float32, shape=(batch_size, image_size, image_size, num_channels))\n",
    "  tf_train_labels = tf.placeholder(tf.float32, shape=(batch_size, num_labels))\n",
    "  tf_valid_dataset = tf.constant(valid_dataset)\n",
    "  tf_test_dataset = tf.constant(test_dataset)\n",
    "\n",
    "  # Convolutional Layer 1\n",
    "  W_conv_1 = weight_variable([patch_size, patch_size, 1, depth])\n",
    "  W_bias_1 = bias_variable([depth])\n",
    "\n",
    "  # Convolutional Layer 2\n",
    "  W_conv_2 = weight_variable([patch_size, patch_size, depth, depth])\n",
    "  W_bias_2 = bias_variable([depth])\n",
    "  \n",
    "  # Dense Layer 1\n",
    "  W_dense_1 = weight_variable([7 * 7 * 16, num_hidden])\n",
    "  W_dense_1_bias = bias_variable([num_hidden])\n",
    "\n",
    "  # Dense Layer 2\n",
    "  W_dense_2 = weight_variable([num_hidden, num_labels])\n",
    "  W_dense_2_bias = bias_variable([num_labels])\n",
    "  \n",
    "  # Model.\n",
    "  def model(data):\n",
    "    # define a simple network with \n",
    "    # * 2 convolutional layers with 5x5 filters each using stride 2 and zero padding\n",
    "    # * one fully connected layer\n",
    "    # return the logits (last layer)\n",
    "\n",
    "    # print(data.shape)\n",
    "\n",
    "    conv_1_out = tf.nn.relu(tf.nn.conv2d(data, W_conv_1, [1, 1, 1, 1], 'SAME') + W_bias_1)\n",
    "    pool_1_out = tf.nn.max_pool(conv_1_out, [1, 2, 2, 1], [1, 2, 2, 1], 'SAME')\n",
    "    \n",
    "    conv_2_out = tf.nn.relu(tf.nn.conv2d(pool_1_out, W_conv_2, [1, 1, 1, 1], 'SAME') + W_bias_2)\n",
    "    pool_2_out = tf.nn.max_pool(conv_2_out, [1, 2, 2, 1], [1, 2, 2, 1], 'SAME')    \n",
    "\n",
    "    # Flatten\n",
    "    flat = tf.reshape(pool_2_out, [-1, 7 * 7 * 16])\n",
    "\n",
    "    dense_1_out = tf.nn.relu(tf.matmul(flat, W_dense_1) + W_dense_1_bias)   \n",
    "    logits = tf.matmul(dense_1_out, W_dense_2) + W_dense_2_bias\n",
    "\n",
    "    return logits\n",
    "  \n",
    "  # Training computation.\n",
    "  logits = model(tf_train_dataset)\n",
    "  loss = compute_loss(tf_train_labels, logits)\n",
    "    \n",
    "  # Optimizer.\n",
    "  optimizer = tf.train.GradientDescentOptimizer(0.005).minimize(loss)\n",
    "  \n",
    "  # Predictions for the training, validation, and test data.\n",
    "  train_prediction = tf.nn.softmax(logits)\n",
    "  valid_prediction = tf.nn.softmax(model(tf_valid_dataset))\n",
    "  test_prediction = tf.nn.softmax(model(tf_test_dataset))"
   ]
  },
  {
   "cell_type": "code",
   "execution_count": 16,
   "metadata": {},
   "outputs": [
    {
     "output_type": "stream",
     "name": "stdout",
     "text": "Initialized\nMinibatch loss at step 0: 2.3699111938476562\nMinibatch accuracy: 6.2%\nValidation accuracy: 9.6%\nMinibatch loss at step 50: 2.116344690322876\nMinibatch accuracy: 31.2%\nValidation accuracy: 24.6%\nMinibatch loss at step 100: 1.9916735887527466\nMinibatch accuracy: 50.0%\nValidation accuracy: 37.7%\nMinibatch loss at step 150: 1.884347677230835\nMinibatch accuracy: 43.8%\nValidation accuracy: 48.6%\nMinibatch loss at step 200: 1.6742043495178223\nMinibatch accuracy: 31.2%\nValidation accuracy: 53.5%\nMinibatch loss at step 250: 1.2996816635131836\nMinibatch accuracy: 75.0%\nValidation accuracy: 63.4%\nMinibatch loss at step 300: 1.3160723447799683\nMinibatch accuracy: 56.2%\nValidation accuracy: 68.4%\nMinibatch loss at step 350: 0.9443691968917847\nMinibatch accuracy: 68.8%\nValidation accuracy: 70.5%\nMinibatch loss at step 400: 0.6772513389587402\nMinibatch accuracy: 87.5%\nValidation accuracy: 72.4%\nMinibatch loss at step 450: 0.768912672996521\nMinibatch accuracy: 75.0%\nValidation accuracy: 74.9%\nMinibatch loss at step 500: 1.1041078567504883\nMinibatch accuracy: 68.8%\nValidation accuracy: 76.9%\nMinibatch loss at step 550: 0.626828134059906\nMinibatch accuracy: 93.8%\nValidation accuracy: 77.1%\nMinibatch loss at step 600: 0.7893400192260742\nMinibatch accuracy: 81.2%\nValidation accuracy: 78.0%\nMinibatch loss at step 650: 1.1311999559402466\nMinibatch accuracy: 81.2%\nValidation accuracy: 78.5%\nMinibatch loss at step 700: 0.6309340596199036\nMinibatch accuracy: 75.0%\nValidation accuracy: 78.8%\nMinibatch loss at step 750: 0.9761320352554321\nMinibatch accuracy: 75.0%\nValidation accuracy: 78.6%\nMinibatch loss at step 800: 0.9095950126647949\nMinibatch accuracy: 75.0%\nValidation accuracy: 79.7%\nMinibatch loss at step 850: 0.19622686505317688\nMinibatch accuracy: 93.8%\nValidation accuracy: 79.5%\nMinibatch loss at step 900: 1.523423671722412\nMinibatch accuracy: 62.5%\nValidation accuracy: 80.2%\nMinibatch loss at step 950: 0.38322535157203674\nMinibatch accuracy: 93.8%\nValidation accuracy: 80.3%\nMinibatch loss at step 1000: 0.6268013715744019\nMinibatch accuracy: 87.5%\nValidation accuracy: 80.2%\nTest accuracy: 86.8%\n"
    }
   ],
   "source": [
    "train(graph_pool, optimizer, train_prediction, valid_prediction, test_prediction)"
   ]
  },
  {
   "cell_type": "markdown",
   "metadata": {
    "colab_type": "text",
    "id": "klf21gpbAgb-"
   },
   "source": [
    "---\n",
    "Problem 3\n",
    "---------\n",
    "\n",
    "Try to get the best performance you can using a convolutional net. Look for example at the classic [LeNet5](http://yann.lecun.com/exdb/lenet/) architecture, adding Dropout, and/or adding learning rate decay.\n",
    "\n",
    "---"
   ]
  },
  {
   "cell_type": "code",
   "execution_count": 36,
   "metadata": {},
   "outputs": [],
   "source": [
    "batch_size = 16\n",
    "\n",
    "conv_1_filter_size = 5\n",
    "conv_1_filter_count = 6\n",
    "conv_1_stride = 1\n",
    "\n",
    "conv_2_filter_size = 5\n",
    "conv_2_filter_count = 16\n",
    "conv_2_stride = 1\n",
    "\n",
    "conv_3_filter_size = 1\n",
    "conv_3_filter_count = 120\n",
    "conv_3_stride = 1\n",
    "\n",
    "flattened_size = 4 * 4 * 120\n",
    "\n",
    "dense_1_count = 84\n",
    "\n",
    "lenet_5 = tf.Graph()\n",
    "\n",
    "with lenet_5.as_default():\n",
    "\n",
    "  # Input data.\n",
    "  tf_train_dataset = tf.placeholder(\n",
    "    tf.float32, shape=(batch_size, image_size, image_size, num_channels))\n",
    "  tf_train_labels = tf.placeholder(tf.float32, shape=(batch_size, num_labels))\n",
    "  tf_valid_dataset = tf.constant(valid_dataset)\n",
    "  tf_test_dataset = tf.constant(test_dataset)\n",
    "\n",
    "  # Convolutional Layer 1\n",
    "  W_conv_1 = weight_variable([conv_1_filter_size, conv_1_filter_size, 1, conv_1_filter_count])\n",
    "  W_bias_1 = bias_variable([filter_count])\n",
    "\n",
    "  # Convolutional Layer 2\n",
    "  W_conv_2 = weight_variable([conv_2_filter_size, conv_2_filter_size, conv_1_filter_count, conv_2_filter_count])\n",
    "  W_bias_2 = bias_variable([conv_2_filter_count])\n",
    "\n",
    "  # Convolutional Layer 3\n",
    "  W_conv_3 = weight_variable([conv_3_filter_size, conv_3_filter_size, conv_2_filter_count, conv_3_filter_count])\n",
    "  W_bias_3 = bias_variable([conv_3_filter_count])\n",
    "\n",
    "  # Dense Layer 1\n",
    "  W_dense_1 = weight_variable([flattened_size, dense_1_count])\n",
    "  W_dense_1_bias = bias_variable([dense_1_count])\n",
    "\n",
    "  # Dense Layer 2\n",
    "  W_dense_2 = weight_variable([dense_1_count, num_labels])\n",
    "  W_dense_2_bias = bias_variable([num_labels])\n",
    "\n",
    "  # Model.\n",
    "  def model(data):\n",
    "    # define a simple network with\n",
    "    # * 2 convolutional layers with 5x5 filters each using stride 2 and zero padding\n",
    "    # * one fully connected layer\n",
    "    # return the logits (last layer)\n",
    "    conv_1_out = tf.nn.relu(tf.nn.conv2d(data, W_conv_1, strides=[1, 1, 1, 1], padding='VALID') + W_bias_1)\n",
    "    pool_1_out = tf.nn.avg_pool(conv_1_out, [1, 2, 2, 1], [1, 2, 2, 1], 'VALID')\n",
    "\n",
    "    conv_2_out = tf.nn.relu(tf.nn.conv2d(pool_1_out, W_conv_2, strides=[1, 1, 1, 1], padding='VALID') + W_bias_2)\n",
    "    pool_2_out = tf.nn.avg_pool(conv_2_out, [1, 2, 2, 1], [1, 2, 2, 1], 'SAME')\n",
    "\n",
    "    conv_3_out = tf.nn.relu(tf.nn.conv2d(pool_2_out, W_conv_3, strides=[1, 1, 1, 1], padding='VALID') + W_bias_3)\n",
    "\n",
    "    flat = tf.reshape(conv_3_out, [-1, flattened_size])  \n",
    "    dense_1_out = tf.nn.relu(tf.matmul(flat, W_dense_1) + W_dense_1_bias)\n",
    "    logits = tf.matmul(dense_1_out, W_dense_2) + W_dense_2_bias\n",
    "\n",
    "    return logits\n",
    "\n",
    "  # Training computation.\n",
    "  logits = model(tf_train_dataset)\n",
    "  loss = compute_loss(tf_train_labels, logits)\n",
    "\n",
    "  # Optimizer.\n",
    "  optimizer = tf.train.GradientDescentOptimizer(0.05).minimize(loss)\n",
    "\n",
    "  # Predictions for the training, validation, and test data.\n",
    "  train_prediction = tf.nn.softmax(logits)\n",
    "  valid_prediction = tf.nn.softmax(model(tf_valid_dataset))\n",
    "  test_prediction = tf.nn.softmax(model(tf_test_dataset))"
   ]
  },
  {
   "cell_type": "code",
   "execution_count": 37,
   "metadata": {},
   "outputs": [
    {
     "output_type": "stream",
     "name": "stdout",
     "text": "Initialized\nMinibatch loss at step 0: 2.3637609481811523\nMinibatch accuracy: 12.5%\nValidation accuracy: 10.0%\nMinibatch loss at step 50: 1.8737828731536865\nMinibatch accuracy: 31.2%\nValidation accuracy: 41.5%\nMinibatch loss at step 100: 1.2104746103286743\nMinibatch accuracy: 75.0%\nValidation accuracy: 62.8%\nMinibatch loss at step 150: 1.4799418449401855\nMinibatch accuracy: 56.2%\nValidation accuracy: 69.4%\nMinibatch loss at step 200: 0.7654746770858765\nMinibatch accuracy: 68.8%\nValidation accuracy: 72.9%\nMinibatch loss at step 250: 1.1286801099777222\nMinibatch accuracy: 50.0%\nValidation accuracy: 74.7%\nMinibatch loss at step 300: 0.9457105398178101\nMinibatch accuracy: 75.0%\nValidation accuracy: 77.8%\nMinibatch loss at step 350: 0.6887876987457275\nMinibatch accuracy: 81.2%\nValidation accuracy: 76.9%\nMinibatch loss at step 400: 0.5250558853149414\nMinibatch accuracy: 87.5%\nValidation accuracy: 78.1%\nMinibatch loss at step 450: 1.128551959991455\nMinibatch accuracy: 81.2%\nValidation accuracy: 76.5%\nMinibatch loss at step 500: 1.1723328828811646\nMinibatch accuracy: 75.0%\nValidation accuracy: 77.7%\nMinibatch loss at step 550: 0.39787328243255615\nMinibatch accuracy: 87.5%\nValidation accuracy: 78.9%\nMinibatch loss at step 600: 0.7950812578201294\nMinibatch accuracy: 81.2%\nValidation accuracy: 79.9%\nMinibatch loss at step 650: 1.036025881767273\nMinibatch accuracy: 81.2%\nValidation accuracy: 80.1%\nMinibatch loss at step 700: 0.5019378662109375\nMinibatch accuracy: 87.5%\nValidation accuracy: 79.2%\nMinibatch loss at step 750: 1.0898312330245972\nMinibatch accuracy: 68.8%\nValidation accuracy: 80.6%\nMinibatch loss at step 800: 0.9999607801437378\nMinibatch accuracy: 75.0%\nValidation accuracy: 80.3%\nMinibatch loss at step 850: 0.15125598013401031\nMinibatch accuracy: 93.8%\nValidation accuracy: 80.5%\nMinibatch loss at step 900: 1.084553837776184\nMinibatch accuracy: 68.8%\nValidation accuracy: 81.9%\nMinibatch loss at step 950: 0.40771839022636414\nMinibatch accuracy: 87.5%\nValidation accuracy: 81.3%\nMinibatch loss at step 1000: 0.5377529859542847\nMinibatch accuracy: 87.5%\nValidation accuracy: 81.0%\nTest accuracy: 87.4%\n"
    }
   ],
   "source": [
    "train(lenet_5, optimizer, train_prediction, valid_prediction, test_prediction)"
   ]
  }
 ],
 "metadata": {
  "colab": {
   "name": "cnn.ipynb",
   "provenance": []
  },
  "kernelspec": {
   "name": "python3",
   "language": "python",
   "display_name": "Python 3"
  },
  "language_info": {
   "codemirror_mode": {
    "name": "ipython",
    "version": 3
   },
   "file_extension": ".py",
   "mimetype": "text/x-python",
   "name": "python",
   "nbconvert_exporter": "python",
   "pygments_lexer": "ipython3",
   "version": "3.6.10-final"
  }
 },
 "nbformat": 4,
 "nbformat_minor": 0
}