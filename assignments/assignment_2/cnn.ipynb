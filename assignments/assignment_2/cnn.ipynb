{
 "cells": [
  {
   "cell_type": "markdown",
   "metadata": {
    "colab_type": "text",
    "id": "4embtkV0pNxM"
   },
   "source": [
    "Deep Learning with Tensorflow\n",
    "=============\n",
    "\n",
    "Assignment II\n",
    "------------\n",
    "\n",
    "During one of the lectures in [Lab 1](https://deep-learning-su.github.io/labs/lab-1/) we trained fully connected network to classify [notMNIST](http://yaroslavvb.blogspot.com/2011/09/notmnist-dataset.html) characters. \n",
    "\n",
    "The goal of this assignment is make the neural network convolutional.\n",
    "\n",
    "For this exercise, you would need the `notMNIST.pickle` created in `Lab 1`. You can obtain it by rerunning the given paragraphs without having to solve the problems (although it is highly recommended to do it if you haven't already)."
   ]
  },
  {
   "cell_type": "code",
   "metadata": {
    "cellView": "both",
    "colab_type": "code",
    "id": "tm2CQN_Cpwj0",
    "colab": {}
   },
   "source": [
    "# These are all the modules we'll be using later. Make sure you can import them\n",
    "# before proceeding further.\n",
    "from __future__ import print_function\n",
    "import numpy as np\n",
    "import tensorflow as tf\n",
    "from six.moves import cPickle as pickle\n",
    "from six.moves import range\n",
    "import os"
   ],
   "execution_count": 1,
   "outputs": []
  },
  {
   "cell_type": "code",
   "metadata": {
    "cellView": "both",
    "colab_type": "code",
    "id": "y3-cj1bpmuxc",
    "colab": {}
   },
   "source": [
    "data_dir = 'data/'\n",
    "pickle_file = os.path.join(data_dir, 'notMNIST.pickle')\n",
    "\n",
    "with open(pickle_file, 'rb') as f:\n",
    "  save = pickle.load(f)\n",
    "  train_dataset = save['train_dataset']\n",
    "  train_labels = save['train_labels']\n",
    "  valid_dataset = save['valid_dataset']\n",
    "  valid_labels = save['valid_labels']\n",
    "  test_dataset = save['test_dataset']\n",
    "  test_labels = save['test_labels']\n",
    "  del save  # hint to help gc free up memory\n",
    "  print('Training set', train_dataset.shape, train_labels.shape)\n",
    "  print('Validation set', valid_dataset.shape, valid_labels.shape)\n",
    "  print('Test set', test_dataset.shape, test_labels.shape)"
   ],
   "execution_count": 2,
   "outputs": [
    {
     "output_type": "stream",
     "name": "stdout",
     "text": "Training set (200000, 28, 28) (200000,)\nValidation set (10000, 28, 28) (10000,)\nTest set (10000, 28, 28) (10000,)\n"
    }
   ]
  },
  {
   "cell_type": "markdown",
   "metadata": {
    "colab_type": "text",
    "id": "L7aHrm6nGDMB"
   },
   "source": [
    "Reformat into a TensorFlow-friendly shape:\n",
    "- convolutions need the image data formatted as a cube (width by height by #channels)\n",
    "- labels as float 1-hot encodings."
   ]
  },
  {
   "cell_type": "code",
   "metadata": {
    "cellView": "both",
    "colab_type": "code",
    "id": "IRSyYiIIGIzS",
    "colab": {}
   },
   "source": [
    "image_size = 28\n",
    "num_labels = 10\n",
    "num_channels = 1 # grayscale\n",
    "\n",
    "import numpy as np\n",
    "\n",
    "def reformat(dataset, labels):\n",
    "  dataset = dataset.reshape(\n",
    "    (-1, image_size, image_size, num_channels)).astype(np.float32)\n",
    "  labels = (np.arange(num_labels) == labels[:,None]).astype(np.float32)\n",
    "  return dataset, labels\n",
    "train_dataset, train_labels = reformat(train_dataset, train_labels)\n",
    "valid_dataset, valid_labels = reformat(valid_dataset, valid_labels)\n",
    "test_dataset, test_labels = reformat(test_dataset, test_labels)\n",
    "\n",
    "print('Training set', train_dataset.shape, train_labels.shape)\n",
    "print('Validation set', valid_dataset.shape, valid_labels.shape)\n",
    "print('Test set', test_dataset.shape, test_labels.shape)"
   ],
   "execution_count": 3,
   "outputs": [
    {
     "output_type": "stream",
     "name": "stdout",
     "text": "Training set (200000, 28, 28, 1) (200000, 10)\nValidation set (10000, 28, 28, 1) (10000, 10)\nTest set (10000, 28, 28, 1) (10000, 10)\n"
    }
   ]
  },
  {
   "cell_type": "code",
   "metadata": {
    "cellView": "both",
    "colab_type": "code",
    "id": "AgQDIREv02p1",
    "colab": {}
   },
   "source": [
    "def accuracy(predictions, labels):\n",
    "  return (100.0 * np.sum(np.argmax(predictions, 1) == np.argmax(labels, 1))\n",
    "          / predictions.shape[0])"
   ],
   "execution_count": 4,
   "outputs": []
  },
  {
   "cell_type": "markdown",
   "metadata": {
    "colab_type": "text",
    "id": "5rhgjmROXu2O"
   },
   "source": [
    "## Problem 1\n",
    "Let's build a small network with two convolutional layers, followed by one fully connected layer. Convolutional networks are more expensive computationally, so we'll limit its depth and number of fully connected nodes.\n",
    "\n",
    "Edit the snippet bellow by changing the `model` function.\n",
    "\n",
    "### 1.1 - Define the model\n",
    "Implement the `model` function bellow. Take a look at the following TF functions:\n",
    "- **tf.nn.conv2d(X,W1, strides = [1,s,s,1], padding = 'SAME'):** given an input $X$ and a group of filters $W1$, this function convolves $W1$'s filters on X. The third input ([1,f,f,1]) represents the strides for each dimension of the input (m, n_H_prev, n_W_prev, n_C_prev). You can read the full documentation [here](https://www.tensorflow.org/api_docs/python/tf/nn/conv2d)\n",
    "- **tf.nn.relu(Z1):** computes the elementwise ReLU of Z1 (which can be any shape). You can read the full documentation [here.](https://www.tensorflow.org/api_docs/python/tf/nn/relu)\n",
    "\n",
    "### 1.2 - Compute loss\n",
    "\n",
    "Implement the `compute_loss` function below. You might find these two functions helpful: \n",
    "\n",
    "- **tf.nn.softmax_cross_entropy_with_logits(logits = Z3, labels = Y):** computes the softmax entropy loss. This function both computes the softmax activation function as well as the resulting loss. You can check the full documentation  [here.](https://www.tensorflow.org/api_docs/python/tf/nn/softmax_cross_entropy_with_logits)\n",
    "- **tf.reduce_mean:** computes the mean of elements across dimensions of a tensor. Use this to sum the losses over all the examples to get the overall cost. You can check the full documentation [here.](https://www.tensorflow.org/api_docs/python/tf/reduce_mean)\n"
   ]
  },
  {
   "cell_type": "code",
   "execution_count": 5,
   "metadata": {},
   "outputs": [],
   "source": [
    "def weight_variable(shape):\n",
    "  # uses default std. deviation\n",
    "  initial = tf.truncated_normal(shape, stddev=0.1)\n",
    "  return tf.Variable(initial)\n",
    "\n",
    "def bias_variable(shape):\n",
    "  # uses default bias\n",
    "  initial = tf.constant(0.1, shape=shape)\n",
    "  return tf.Variable(initial)"
   ]
  },
  {
   "cell_type": "code",
   "execution_count": 6,
   "outputs": [],
   "source": [
    "def compute_loss(labels, logits):\n",
    "    entropy_loss = tf.nn.softmax_cross_entropy_with_logits(logits=logits, labels=labels)\n",
    "    return tf.reduce_mean(entropy_loss)"
   ],
   "metadata": {
    "collapsed": false,
    "pycharm": {
     "name": "#%%\n"
    }
   }
  },
  {
   "cell_type": "code",
   "metadata": {
    "cellView": "both",
    "colab_type": "code",
    "id": "IZYv70SvvOan",
    "colab": {}
   },
   "source": [
    "batch_size = 16\n",
    "patch_size = 5\n",
    "depth = 16 # Number of filters?\n",
    "num_hidden = 64 # Size of the fully connected layer?\n",
    "\n",
    "graph = tf.Graph()\n",
    "\n",
    "with graph.as_default():\n",
    "\n",
    "  # Input data.\n",
    "  tf_train_dataset = tf.placeholder(\n",
    "    tf.float32, shape=(batch_size, image_size, image_size, num_channels))\n",
    "  tf_train_labels = tf.placeholder(tf.float32, shape=(batch_size, num_labels))\n",
    "  tf_valid_dataset = tf.constant(valid_dataset)\n",
    "  tf_test_dataset = tf.constant(test_dataset)\n",
    "\n",
    "  # Convolutional Layer 1\n",
    "  W_conv_1 = weight_variable([patch_size, patch_size, 1, depth])\n",
    "  W_bias_1 = bias_variable([depth])\n",
    "\n",
    "  # Convolutional Layer 2\n",
    "  W_conv_2 = weight_variable([patch_size, patch_size, depth, depth])\n",
    "  W_bias_2 = bias_variable([depth])\n",
    "  \n",
    "  # Dense Layer 1\n",
    "  W_dense_1 = weight_variable([7 * 7 * 16, num_hidden])\n",
    "  W_dense_1_bias = bias_variable([num_hidden])\n",
    "\n",
    "  # Dense Layer 2\n",
    "  W_dense_2 = weight_variable([num_hidden, num_labels])\n",
    "  W_dense_2_bias = bias_variable([num_labels])\n",
    "  \n",
    "  # Model.\n",
    "  def model(data):\n",
    "    # define a simple network with \n",
    "    # * 2 convolutional layers with 5x5 filters each using stride 2 and zero padding\n",
    "    # * one fully connected layer\n",
    "    # return the logits (last layer)\n",
    "\n",
    "    conv_1_out = tf.nn.relu(tf.nn.conv2d(data, W_conv_1, [1, 2, 2, 1], 'SAME') + W_bias_1)\n",
    "    conv_2_out = tf.nn.relu(tf.nn.conv2d(conv_1_out, W_conv_2, [1, 2, 2, 1], 'SAME') + W_bias_2)\n",
    "\n",
    "    # Flatten\n",
    "    flat = tf.reshape(conv_2_out, [-1, 7 * 7 * 16])\n",
    "\n",
    "    dense_1_out = tf.nn.relu(tf.matmul(flat, W_dense_1) + W_dense_1_bias)   \n",
    "    logits = tf.matmul(dense_1_out, W_dense_2) + W_dense_2_bias\n",
    "\n",
    "    return logits\n",
    "\n",
    "  # Training computation.\n",
    "  logits = model(tf_train_dataset)\n",
    "  loss = compute_loss(tf_train_labels, logits)\n",
    "    \n",
    "  # Optimizer.\n",
    "  optimizer = tf.train.GradientDescentOptimizer(0.05).minimize(loss)\n",
    "  \n",
    "  # Predictions for the training, validation, and test data.\n",
    "  train_prediction = tf.nn.softmax(logits)\n",
    "  valid_prediction = tf.nn.softmax(model(tf_valid_dataset))\n",
    "  test_prediction = tf.nn.softmax(model(tf_test_dataset))"
   ],
   "execution_count": 7,
   "outputs": [
    {
     "output_type": "stream",
     "name": "stdout",
     "text": "WARNING:tensorflow:From /home/ivanasen/Tools/anaconda3/envs/py3.6/lib/python3.6/site-packages/tensorflow/python/framework/op_def_library.py:263: colocate_with (from tensorflow.python.framework.ops) is deprecated and will be removed in a future version.\nInstructions for updating:\nColocations handled automatically by placer.\nWARNING:tensorflow:From <ipython-input-6-fddc41529dbc>:2: softmax_cross_entropy_with_logits (from tensorflow.python.ops.nn_ops) is deprecated and will be removed in a future version.\nInstructions for updating:\n\nFuture major versions of TensorFlow will allow gradients to flow\ninto the labels input on backprop by default.\n\nSee `tf.nn.softmax_cross_entropy_with_logits_v2`.\n\n"
    }
   ]
  },
  {
   "cell_type": "markdown",
   "metadata": {
    "id": "ZkzpbHET-m8S",
    "colab_type": "text"
   },
   "source": [
    "### 1.3 - Measure the accuracy and tune your model\n",
    "\n",
    "Run the snippet bellow to measure the accuracy of your model. Try to achieve a test accuracy of around 80%. Iterate on the filters size."
   ]
  },
  {
   "cell_type": "code",
   "metadata": {
    "cellView": "both",
    "colab_type": "code",
    "id": "noKFb2UovVFR",
    "colab": {}
   },
   "source": [
    "num_steps = 1001\n",
    "\n",
    "def train(graph, optimizer, train_prediction, valid_prediction, test_prediction):\n",
    "  with tf.Session(graph=graph) as session:\n",
    "    tf.global_variables_initializer().run()\n",
    "\n",
    "    print('Initialized')\n",
    "    \n",
    "    for step in range(num_steps):\n",
    "      offset = (step * batch_size) % (train_labels.shape[0] - batch_size)\n",
    "      batch_data = train_dataset[offset:(offset + batch_size), :, :, :]\n",
    "      batch_labels = train_labels[offset:(offset + batch_size), :]\n",
    "      feed_dict = {tf_train_dataset : batch_data, tf_train_labels : batch_labels}\n",
    "      _, l, predictions = session.run(\n",
    "        [optimizer, loss, train_prediction], feed_dict=feed_dict)\n",
    "      if (step % 50 == 0):\n",
    "        print(f'Minibatch loss at step {step}: {l}')\n",
    "        print('Minibatch accuracy: %.1f%%' % accuracy(predictions, batch_labels))\n",
    "        print('Validation accuracy: %.1f%%' % accuracy(valid_prediction.eval(), valid_labels))\n",
    "    print('Test accuracy: %.1f%%' % accuracy(test_prediction.eval(), test_labels))\n",
    "\n",
    "train(graph, optimizer, train_prediction, valid_prediction, test_prediction)"
   ],
   "execution_count": 8,
   "outputs": [
    {
     "output_type": "stream",
     "name": "stdout",
     "text": "Initialized\nMinibatch loss at step 0: 2.3884057998657227\nMinibatch accuracy: 12.5%\nValidation accuracy: 7.8%\nMinibatch loss at step 50: 1.3093351125717163\nMinibatch accuracy: 68.8%\nValidation accuracy: 63.3%\nMinibatch loss at step 100: 0.7103785276412964\nMinibatch accuracy: 68.8%\nValidation accuracy: 70.9%\nMinibatch loss at step 150: 1.058274269104004\nMinibatch accuracy: 68.8%\nValidation accuracy: 78.0%\nMinibatch loss at step 200: 0.3774277865886688\nMinibatch accuracy: 93.8%\nValidation accuracy: 79.2%\nMinibatch loss at step 250: 1.0341061353683472\nMinibatch accuracy: 75.0%\nValidation accuracy: 79.8%\nMinibatch loss at step 300: 0.7294391989707947\nMinibatch accuracy: 81.2%\nValidation accuracy: 79.8%\nMinibatch loss at step 350: 0.5476373434066772\nMinibatch accuracy: 81.2%\nValidation accuracy: 78.9%\nMinibatch loss at step 400: 0.4933395981788635\nMinibatch accuracy: 87.5%\nValidation accuracy: 80.5%\nMinibatch loss at step 450: 0.4312869906425476\nMinibatch accuracy: 87.5%\nValidation accuracy: 81.7%\nMinibatch loss at step 500: 0.9827419519424438\nMinibatch accuracy: 68.8%\nValidation accuracy: 81.1%\nMinibatch loss at step 550: 0.2384684681892395\nMinibatch accuracy: 93.8%\nValidation accuracy: 82.0%\nMinibatch loss at step 600: 0.7183248996734619\nMinibatch accuracy: 75.0%\nValidation accuracy: 82.8%\nMinibatch loss at step 650: 0.921595573425293\nMinibatch accuracy: 81.2%\nValidation accuracy: 82.8%\nMinibatch loss at step 700: 0.5515483021736145\nMinibatch accuracy: 93.8%\nValidation accuracy: 83.2%\nMinibatch loss at step 750: 0.9045429229736328\nMinibatch accuracy: 62.5%\nValidation accuracy: 82.1%\nMinibatch loss at step 800: 0.7237405776977539\nMinibatch accuracy: 75.0%\nValidation accuracy: 83.6%\nMinibatch loss at step 850: 0.07566548883914948\nMinibatch accuracy: 100.0%\nValidation accuracy: 83.5%\nMinibatch loss at step 900: 1.3206509351730347\nMinibatch accuracy: 56.2%\nValidation accuracy: 83.7%\nMinibatch loss at step 950: 0.3712485730648041\nMinibatch accuracy: 93.8%\nValidation accuracy: 83.7%\nMinibatch loss at step 1000: 0.4612537920475006\nMinibatch accuracy: 81.2%\nValidation accuracy: 83.7%\nTest accuracy: 90.0%\n"
    }
   ]
  },
  {
   "cell_type": "markdown",
   "metadata": {
    "colab_type": "text",
    "id": "KedKkn4EutIK"
   },
   "source": [
    "---\n",
    "Problem 2\n",
    "---------\n",
    "\n",
    "The convolutional model above uses convolutions with stride 2 to reduce the dimensionality. Replace the strides by a max pooling operation (`nn.max_pool()`) of stride 2 and kernel size 2.\n",
    "\n",
    "---"
   ]
  },
  {
   "cell_type": "code",
   "execution_count": 9,
   "metadata": {},
   "outputs": [],
   "source": [
    "batch_size = 16\n",
    "patch_size = 5\n",
    "depth = 16 # Number of filters?\n",
    "num_hidden = 64 # Size of the fully connected layer?\n",
    "\n",
    "graph_pool = tf.Graph()\n",
    "\n",
    "with graph_pool.as_default():\n",
    "\n",
    "  # Input data.\n",
    "  tf_train_dataset = tf.placeholder(\n",
    "    tf.float32, shape=(batch_size, image_size, image_size, num_channels))\n",
    "  tf_train_labels = tf.placeholder(tf.float32, shape=(batch_size, num_labels))\n",
    "  tf_valid_dataset = tf.constant(valid_dataset)\n",
    "  tf_test_dataset = tf.constant(test_dataset)\n",
    "\n",
    "  # Convolutional Layer 1\n",
    "  W_conv_1 = weight_variable([patch_size, patch_size, 1, depth])\n",
    "  W_bias_1 = bias_variable([depth])\n",
    "\n",
    "  # Convolutional Layer 2\n",
    "  W_conv_2 = weight_variable([patch_size, patch_size, depth, depth])\n",
    "  W_bias_2 = bias_variable([depth])\n",
    "  \n",
    "  # Dense Layer 1\n",
    "  W_dense_1 = weight_variable([7 * 7 * 16, num_hidden])\n",
    "  W_dense_1_bias = bias_variable([num_hidden])\n",
    "\n",
    "  # Dense Layer 2\n",
    "  W_dense_2 = weight_variable([num_hidden, num_labels])\n",
    "  W_dense_2_bias = bias_variable([num_labels])\n",
    "  \n",
    "  # Model.\n",
    "  def model(data):\n",
    "    # define a simple network with \n",
    "    # * 2 convolutional layers with 5x5 filters each using stride 2 and zero padding\n",
    "    # * one fully connected layer\n",
    "    # return the logits (last layer)\n",
    "\n",
    "    # print(data.shape)\n",
    "\n",
    "    conv_1_out = tf.nn.relu(tf.nn.conv2d(data, W_conv_1, [1, 1, 1, 1], 'SAME') + W_bias_1)\n",
    "    pool_1_out = tf.nn.max_pool(conv_1_out, [1, 2, 2, 1], [1, 2, 2, 1], 'SAME')\n",
    "    \n",
    "    conv_2_out = tf.nn.relu(tf.nn.conv2d(pool_1_out, W_conv_2, [1, 1, 1, 1], 'SAME') + W_bias_2)\n",
    "    pool_2_out = tf.nn.max_pool(conv_2_out, [1, 2, 2, 1], [1, 2, 2, 1], 'SAME')    \n",
    "\n",
    "    # Flatten\n",
    "    flat = tf.reshape(pool_2_out, [-1, 7 * 7 * 16])\n",
    "\n",
    "    dense_1_out = tf.nn.relu(tf.matmul(flat, W_dense_1) + W_dense_1_bias)   \n",
    "    logits = tf.matmul(dense_1_out, W_dense_2) + W_dense_2_bias\n",
    "\n",
    "    return logits\n",
    "  \n",
    "  # Training computation.\n",
    "  logits = model(tf_train_dataset)\n",
    "  loss = compute_loss(tf_train_labels, logits)\n",
    "    \n",
    "  # Optimizer.\n",
    "  optimizer = tf.train.GradientDescentOptimizer(0.005).minimize(loss)\n",
    "  \n",
    "  # Predictions for the training, validation, and test data.\n",
    "  train_prediction = tf.nn.softmax(logits)\n",
    "  valid_prediction = tf.nn.softmax(model(tf_valid_dataset))\n",
    "  test_prediction = tf.nn.softmax(model(tf_test_dataset))"
   ]
  },
  {
   "cell_type": "code",
   "execution_count": 10,
   "metadata": {},
   "outputs": [
    {
     "output_type": "stream",
     "name": "stdout",
     "text": "Initialized\nMinibatch loss at step 0: 2.4311037063598633\nMinibatch accuracy: 6.2%\nValidation accuracy: 10.6%\nMinibatch loss at step 50: 2.1285367012023926\nMinibatch accuracy: 18.8%\nValidation accuracy: 28.9%\nMinibatch loss at step 100: 2.008909225463867\nMinibatch accuracy: 37.5%\nValidation accuracy: 44.3%\nMinibatch loss at step 150: 1.7794468402862549\nMinibatch accuracy: 62.5%\nValidation accuracy: 53.8%\nMinibatch loss at step 200: 1.6336421966552734\nMinibatch accuracy: 62.5%\nValidation accuracy: 59.9%\nMinibatch loss at step 250: 1.2692162990570068\nMinibatch accuracy: 75.0%\nValidation accuracy: 66.9%\nMinibatch loss at step 300: 1.4602060317993164\nMinibatch accuracy: 50.0%\nValidation accuracy: 72.0%\nMinibatch loss at step 350: 0.8950042128562927\nMinibatch accuracy: 68.8%\nValidation accuracy: 72.0%\nMinibatch loss at step 400: 0.7331770658493042\nMinibatch accuracy: 87.5%\nValidation accuracy: 72.8%\nMinibatch loss at step 450: 0.8115584850311279\nMinibatch accuracy: 81.2%\nValidation accuracy: 75.5%\nMinibatch loss at step 500: 1.0972416400909424\nMinibatch accuracy: 75.0%\nValidation accuracy: 76.9%\nMinibatch loss at step 550: 0.6090272068977356\nMinibatch accuracy: 93.8%\nValidation accuracy: 77.5%\nMinibatch loss at step 600: 0.8775044679641724\nMinibatch accuracy: 68.8%\nValidation accuracy: 79.2%\nMinibatch loss at step 650: 1.195994257926941\nMinibatch accuracy: 81.2%\nValidation accuracy: 79.2%\nMinibatch loss at step 700: 0.7082424163818359\nMinibatch accuracy: 81.2%\nValidation accuracy: 79.5%\nMinibatch loss at step 750: 1.2305219173431396\nMinibatch accuracy: 62.5%\nValidation accuracy: 79.0%\nMinibatch loss at step 800: 0.7866548299789429\nMinibatch accuracy: 75.0%\nValidation accuracy: 80.0%\nMinibatch loss at step 850: 0.1925113946199417\nMinibatch accuracy: 93.8%\nValidation accuracy: 79.6%\nMinibatch loss at step 900: 1.415940761566162\nMinibatch accuracy: 62.5%\nValidation accuracy: 80.7%\nMinibatch loss at step 950: 0.42787718772888184\nMinibatch accuracy: 87.5%\nValidation accuracy: 80.6%\nMinibatch loss at step 1000: 0.5790818929672241\nMinibatch accuracy: 81.2%\nValidation accuracy: 80.8%\nTest accuracy: 86.6%\n"
    }
   ],
   "source": [
    "train(graph_pool, optimizer, train_prediction, valid_prediction, test_prediction)"
   ]
  },
  {
   "cell_type": "markdown",
   "metadata": {
    "colab_type": "text",
    "id": "klf21gpbAgb-"
   },
   "source": [
    "---\n",
    "Problem 3\n",
    "---------\n",
    "\n",
    "Try to get the best performance you can using a convolutional net. Look for example at the classic [LeNet5](http://yann.lecun.com/exdb/lenet/) architecture, adding Dropout, and/or adding learning rate decay.\n",
    "\n",
    "---"
   ]
  },
  {
   "cell_type": "code",
   "execution_count": 25,
   "metadata": {},
   "outputs": [
    {
     "output_type": "stream",
     "name": "stdout",
     "text": "(200000, 32, 32, 1)\n(10000, 32, 32, 1)\n(10000, 32, 32, 1)\n"
    }
   ],
   "source": [
    "# Convert images from size of 28x28 to 32x32 as per LeNet specification.\n",
    "train_dataset = np.pad(train_dataset, ((0,0),(2,2),(2,2),(0,0)), 'constant')\n",
    "valid_dataset = np.pad(valid_dataset, ((0,0),(2,2),(2,2),(0,0)), 'constant')\n",
    "test_dataset = np.pad(test_dataset, ((0,0),(2,2),(2,2),(0,0)), 'constant')\n",
    "print(train_dataset.shape)\n",
    "print(valid_dataset.shape)\n",
    "print(test_dataset.shape)"
   ]
  },
  {
   "cell_type": "code",
   "execution_count": 97,
   "metadata": {},
   "outputs": [],
   "source": [
    "batch_size = 256\n",
    "image_size = 32\n",
    "\n",
    "conv_1_filter_size = 5\n",
    "conv_1_filter_count = 20\n",
    "conv_1_stride = 1\n",
    "\n",
    "conv_2_filter_size = 5\n",
    "conv_2_filter_count = 50\n",
    "conv_2_stride = 1\n",
    "\n",
    "dense_1_count = 500\n",
    "\n",
    "flattened_size = 5 * 5 * 50\n",
    "\n",
    "dense_2_count = 84\n",
    "\n",
    "lenet_5 = tf.Graph()\n",
    "\n",
    "with lenet_5.as_default():\n",
    "\n",
    "  # Input data.\n",
    "  tf_train_dataset = tf.placeholder(\n",
    "    tf.float32, shape=(batch_size, image_size, image_size, num_channels))\n",
    "  tf_train_labels = tf.placeholder(tf.float32, shape=(batch_size, num_labels))\n",
    "  tf_valid_dataset = tf.constant(valid_dataset)\n",
    "  tf_test_dataset = tf.constant(test_dataset)\n",
    "\n",
    "  # Convolutional layer 1\n",
    "  w_conv_1 = weight_variable([conv_1_filter_size, conv_1_filter_size, 1, conv_1_filter_count])\n",
    "  bias_conv_1 = bias_variable([conv_1_filter_count])\n",
    "\n",
    "  # Convolutional layer 2\n",
    "  w_conv_2 = weight_variable([conv_2_filter_size, conv_2_filter_size, conv_1_filter_count, conv_2_filter_count])\n",
    "  bias_conv_2 = bias_variable([conv_2_filter_count])\n",
    "\n",
    "  # Dense layer 1\n",
    "  w_dense_1 = weight_variable([flattened_size, dense_1_count])\n",
    "  bias_dense_1 = bias_variable([dense_1_count])\n",
    "\n",
    "  # Dense layer 2\n",
    "  w_dense_2 = weight_variable([dense_1_count, dense_2_count])\n",
    "  bias_dense_2 = bias_variable([dense_2_count])\n",
    "\n",
    "  # Output layer\n",
    "  w_output = weight_variable([dense_2_count, num_labels])\n",
    "  bias_output = bias_variable([num_labels])\n",
    "\n",
    "  # Model.\n",
    "  def model(data):\n",
    "    conv_1_out = tf.nn.relu(tf.nn.conv2d(data, w_conv_1, strides=[1, 1, 1, 1], padding='VALID') + bias_conv_1)\n",
    "    # pool_1_out = tf.nn.avg_pool(conv_1_out, [1, 2, 2, 1], [1, 2, 2, 1], 'VALID')\n",
    "    pool_1_out = tf.nn.max_pool(conv_1_out, [1, 2, 2, 1], [1, 2, 2, 1], 'VALID')    \n",
    "\n",
    "    conv_2_out = tf.nn.relu(tf.nn.conv2d(pool_1_out, w_conv_2, strides=[1, 1, 1, 1], padding='VALID') + bias_conv_2)\n",
    "    # pool_2_out = tf.nn.avg_pool(conv_2_out, [1, 2, 2, 1], [1, 2, 2, 1], 'VALID')\n",
    "    pool_2_out = tf.nn.max_pool(conv_2_out, [1, 2, 2, 1], [1, 2, 2, 1], 'VALID')\n",
    "    flat = tf.reshape(pool_2_out, [-1, flattened_size])  \n",
    "\n",
    "    # dense_1_out = tf.nn.relu(tf.nn.conv2d(pool_2_out, W_conv_3, strides=[1, 1, 1, 1], padding='VALID') + W_bias_3)\n",
    "    dense_1_out = tf.nn.relu(tf.matmul(flat, w_dense_1) + bias_dense_1)\n",
    "\n",
    "    dropout_1 = tf.nn.dropout(dense_1_out, rate=0.5)\n",
    "\n",
    "    dense_2_out = tf.nn.relu(tf.matmul(dropout_1, w_dense_2) + bias_dense_2)\n",
    "    \n",
    "    dropout_2 = tf.nn.dropout(dense_2_out, rate=0.5)\n",
    "\n",
    "    logits = tf.matmul(dropout_2, w_output) + bias_output\n",
    "\n",
    "    return logits\n",
    "\n",
    "  # Training computation.\n",
    "  logits = model(tf_train_dataset)\n",
    "  loss = compute_loss(tf_train_labels, logits)\n",
    "\n",
    "  # Optimizer.\n",
    "  optimizer = tf.train.AdamOptimizer(learning_rate=0.0008).minimize(loss)\n",
    "\n",
    "  # Predictions for the training, validation, and test data.\n",
    "  train_prediction = tf.nn.softmax(logits)\n",
    "  valid_prediction = tf.nn.softmax(model(tf_valid_dataset))\n",
    "  test_prediction = tf.nn.softmax(model(tf_test_dataset))"
   ]
  },
  {
   "cell_type": "code",
   "execution_count": 98,
   "metadata": {},
   "outputs": [
    {
     "output_type": "stream",
     "name": "stdout",
     "text": "Initialized\nMinibatch loss at step 0: 4.455839157104492\nMinibatch accuracy: 7.8%\nValidation accuracy: 11.8%\nMinibatch loss at step 50: 1.1533509492874146\nMinibatch accuracy: 61.7%\nValidation accuracy: 64.9%\nMinibatch loss at step 100: 0.8931179046630859\nMinibatch accuracy: 72.7%\nValidation accuracy: 77.0%\nMinibatch loss at step 150: 0.6679005026817322\nMinibatch accuracy: 80.1%\nValidation accuracy: 80.2%\nMinibatch loss at step 200: 0.6822714805603027\nMinibatch accuracy: 77.7%\nValidation accuracy: 80.9%\nMinibatch loss at step 250: 0.5065990686416626\nMinibatch accuracy: 85.5%\nValidation accuracy: 82.6%\nMinibatch loss at step 300: 0.5568545460700989\nMinibatch accuracy: 83.2%\nValidation accuracy: 83.7%\nMinibatch loss at step 350: 0.5511354804039001\nMinibatch accuracy: 84.8%\nValidation accuracy: 84.0%\nMinibatch loss at step 400: 0.4782627820968628\nMinibatch accuracy: 87.5%\nValidation accuracy: 84.7%\nMinibatch loss at step 450: 0.5826313495635986\nMinibatch accuracy: 84.0%\nValidation accuracy: 85.1%\nMinibatch loss at step 500: 0.5755744576454163\nMinibatch accuracy: 84.0%\nValidation accuracy: 85.5%\nMinibatch loss at step 550: 0.4403890073299408\nMinibatch accuracy: 85.5%\nValidation accuracy: 85.5%\nMinibatch loss at step 600: 0.5189729332923889\nMinibatch accuracy: 85.2%\nValidation accuracy: 85.9%\nMinibatch loss at step 650: 0.48464182019233704\nMinibatch accuracy: 85.5%\nValidation accuracy: 86.2%\nMinibatch loss at step 700: 0.4399031400680542\nMinibatch accuracy: 89.5%\nValidation accuracy: 86.5%\nMinibatch loss at step 750: 0.43198275566101074\nMinibatch accuracy: 87.9%\nValidation accuracy: 86.4%\nMinibatch loss at step 800: 0.3615480065345764\nMinibatch accuracy: 88.3%\nValidation accuracy: 86.8%\nMinibatch loss at step 850: 0.39575374126434326\nMinibatch accuracy: 87.5%\nValidation accuracy: 87.1%\nMinibatch loss at step 900: 0.44821080565452576\nMinibatch accuracy: 86.3%\nValidation accuracy: 86.9%\nMinibatch loss at step 950: 0.4296382665634155\nMinibatch accuracy: 87.5%\nValidation accuracy: 87.1%\nMinibatch loss at step 1000: 0.45311814546585083\nMinibatch accuracy: 85.9%\nValidation accuracy: 87.4%\nTest accuracy: 93.0%\n"
    }
   ],
   "source": [
    "train(lenet_5, optimizer, train_prediction, valid_prediction, test_prediction)"
   ]
  }
 ],
 "metadata": {
  "colab": {
   "name": "cnn.ipynb",
   "provenance": []
  },
  "kernelspec": {
   "name": "python3",
   "language": "python",
   "display_name": "Python 3"
  },
  "language_info": {
   "codemirror_mode": {
    "name": "ipython",
    "version": 3
   },
   "file_extension": ".py",
   "mimetype": "text/x-python",
   "name": "python",
   "nbconvert_exporter": "python",
   "pygments_lexer": "ipython3",
   "version": "3.6.10-final"
  }
 },
 "nbformat": 4,
 "nbformat_minor": 0
}