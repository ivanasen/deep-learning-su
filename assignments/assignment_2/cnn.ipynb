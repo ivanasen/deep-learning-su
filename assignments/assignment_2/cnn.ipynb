{
 "cells": [
  {
   "cell_type": "markdown",
   "metadata": {
    "colab_type": "text",
    "id": "4embtkV0pNxM"
   },
   "source": [
    "Deep Learning with Tensorflow\n",
    "=============\n",
    "\n",
    "Assignment II\n",
    "------------\n",
    "\n",
    "During one of the lectures in [Lab 1](https://deep-learning-su.github.io/labs/lab-1/) we trained fully connected network to classify [notMNIST](http://yaroslavvb.blogspot.com/2011/09/notmnist-dataset.html) characters. \n",
    "\n",
    "The goal of this assignment is make the neural network convolutional.\n",
    "\n",
    "For this exercise, you would need the `notMNIST.pickle` created in `Lab 1`. You can obtain it by rerunning the given paragraphs without having to solve the problems (although it is highly recommended to do it if you haven't already)."
   ]
  },
  {
   "cell_type": "code",
   "metadata": {
    "cellView": "both",
    "colab_type": "code",
    "id": "tm2CQN_Cpwj0",
    "colab": {}
   },
   "source": [
    "# These are all the modules we'll be using later. Make sure you can import them\n",
    "# before proceeding further.\n",
    "from __future__ import print_function\n",
    "import numpy as np\n",
    "import tensorflow as tf\n",
    "from six.moves import cPickle as pickle\n",
    "from six.moves import range\n",
    "import os"
   ],
   "execution_count": 1,
   "outputs": []
  },
  {
   "cell_type": "code",
   "metadata": {
    "cellView": "both",
    "colab_type": "code",
    "id": "y3-cj1bpmuxc",
    "colab": {}
   },
   "source": [
    "data_dir = 'data/'\n",
    "pickle_file = os.path.join(data_dir, 'notMNIST.pickle')\n",
    "\n",
    "with open(pickle_file, 'rb') as f:\n",
    "  save = pickle.load(f)\n",
    "  train_dataset = save['train_dataset']\n",
    "  train_labels = save['train_labels']\n",
    "  valid_dataset = save['valid_dataset']\n",
    "  valid_labels = save['valid_labels']\n",
    "  test_dataset = save['test_dataset']\n",
    "  test_labels = save['test_labels']\n",
    "  del save  # hint to help gc free up memory\n",
    "  print('Training set', train_dataset.shape, train_labels.shape)\n",
    "  print('Validation set', valid_dataset.shape, valid_labels.shape)\n",
    "  print('Test set', test_dataset.shape, test_labels.shape)"
   ],
   "execution_count": 2,
   "outputs": [
    {
     "output_type": "stream",
     "name": "stdout",
     "text": "Training set (200000, 28, 28) (200000,)\nValidation set (10000, 28, 28) (10000,)\nTest set (10000, 28, 28) (10000,)\n"
    }
   ]
  },
  {
   "cell_type": "markdown",
   "metadata": {
    "colab_type": "text",
    "id": "L7aHrm6nGDMB"
   },
   "source": [
    "Reformat into a TensorFlow-friendly shape:\n",
    "- convolutions need the image data formatted as a cube (width by height by #channels)\n",
    "- labels as float 1-hot encodings."
   ]
  },
  {
   "cell_type": "code",
   "metadata": {
    "cellView": "both",
    "colab_type": "code",
    "id": "IRSyYiIIGIzS",
    "colab": {}
   },
   "source": [
    "image_size = 28\n",
    "num_labels = 10\n",
    "num_channels = 1 # grayscale\n",
    "\n",
    "import numpy as np\n",
    "\n",
    "def reformat(dataset, labels):\n",
    "  dataset = dataset.reshape(\n",
    "    (-1, image_size, image_size, num_channels)).astype(np.float32)\n",
    "  labels = (np.arange(num_labels) == labels[:,None]).astype(np.float32)\n",
    "  return dataset, labels\n",
    "train_dataset, train_labels = reformat(train_dataset, train_labels)\n",
    "valid_dataset, valid_labels = reformat(valid_dataset, valid_labels)\n",
    "test_dataset, test_labels = reformat(test_dataset, test_labels)\n",
    "\n",
    "print('Training set', train_dataset.shape, train_labels.shape)\n",
    "print('Validation set', valid_dataset.shape, valid_labels.shape)\n",
    "print('Test set', test_dataset.shape, test_labels.shape)"
   ],
   "execution_count": 3,
   "outputs": [
    {
     "output_type": "stream",
     "name": "stdout",
     "text": "Training set (200000, 28, 28, 1) (200000, 10)\nValidation set (10000, 28, 28, 1) (10000, 10)\nTest set (10000, 28, 28, 1) (10000, 10)\n"
    }
   ]
  },
  {
   "cell_type": "code",
   "metadata": {
    "cellView": "both",
    "colab_type": "code",
    "id": "AgQDIREv02p1",
    "colab": {}
   },
   "source": [
    "def accuracy(predictions, labels):\n",
    "  return (100.0 * np.sum(np.argmax(predictions, 1) == np.argmax(labels, 1))\n",
    "          / predictions.shape[0])"
   ],
   "execution_count": 4,
   "outputs": []
  },
  {
   "cell_type": "markdown",
   "metadata": {
    "colab_type": "text",
    "id": "5rhgjmROXu2O"
   },
   "source": [
    "## Problem 1\n",
    "Let's build a small network with two convolutional layers, followed by one fully connected layer. Convolutional networks are more expensive computationally, so we'll limit its depth and number of fully connected nodes.\n",
    "\n",
    "Edit the snippet bellow by changing the `model` function.\n",
    "\n",
    "### 1.1 - Define the model\n",
    "Implement the `model` function bellow. Take a look at the following TF functions:\n",
    "- **tf.nn.conv2d(X,W1, strides = [1,s,s,1], padding = 'SAME'):** given an input $X$ and a group of filters $W1$, this function convolves $W1$'s filters on X. The third input ([1,f,f,1]) represents the strides for each dimension of the input (m, n_H_prev, n_W_prev, n_C_prev). You can read the full documentation [here](https://www.tensorflow.org/api_docs/python/tf/nn/conv2d)\n",
    "- **tf.nn.relu(Z1):** computes the elementwise ReLU of Z1 (which can be any shape). You can read the full documentation [here.](https://www.tensorflow.org/api_docs/python/tf/nn/relu)\n",
    "\n",
    "### 1.2 - Compute loss\n",
    "\n",
    "Implement the `compute_loss` function below. You might find these two functions helpful: \n",
    "\n",
    "- **tf.nn.softmax_cross_entropy_with_logits(logits = Z3, labels = Y):** computes the softmax entropy loss. This function both computes the softmax activation function as well as the resulting loss. You can check the full documentation  [here.](https://www.tensorflow.org/api_docs/python/tf/nn/softmax_cross_entropy_with_logits)\n",
    "- **tf.reduce_mean:** computes the mean of elements across dimensions of a tensor. Use this to sum the losses over all the examples to get the overall cost. You can check the full documentation [here.](https://www.tensorflow.org/api_docs/python/tf/reduce_mean)\n"
   ]
  },
  {
   "cell_type": "code",
   "execution_count": 5,
   "metadata": {},
   "outputs": [],
   "source": [
    "def weight_variable(shape):\n",
    "  # uses default std. deviation\n",
    "  initial = tf.truncated_normal(shape, stddev=0.1)\n",
    "  return tf.Variable(initial)\n",
    "\n",
    "def bias_variable(shape):\n",
    "  # uses default bias\n",
    "  initial = tf.constant(0.1, shape=shape)\n",
    "  return tf.Variable(initial)"
   ]
  },
  {
   "cell_type": "code",
   "metadata": {
    "cellView": "both",
    "colab_type": "code",
    "id": "IZYv70SvvOan",
    "colab": {}
   },
   "source": [
    "batch_size = 16\n",
    "patch_size = 5\n",
    "depth = 16 # Number of filters?\n",
    "num_hidden = 64 # Size of the fully connected layer?\n",
    "\n",
    "graph = tf.Graph()\n",
    "\n",
    "with graph.as_default():\n",
    "\n",
    "  # Input data.\n",
    "  tf_train_dataset = tf.placeholder(\n",
    "    tf.float32, shape=(batch_size, image_size, image_size, num_channels))\n",
    "  tf_train_labels = tf.placeholder(tf.float32, shape=(batch_size, num_labels))\n",
    "  tf_valid_dataset = tf.constant(valid_dataset)\n",
    "  tf_test_dataset = tf.constant(test_dataset)\n",
    "\n",
    "  # Convolutional Layer 1\n",
    "  W_conv_1 = weight_variable([patch_size, patch_size, 1, depth])\n",
    "  W_bias_1 = bias_variable([depth])\n",
    "\n",
    "  # Convolutional Layer 2\n",
    "  W_conv_2 = weight_variable([patch_size, patch_size, depth, depth])\n",
    "  W_bias_2 = bias_variable([depth])\n",
    "  \n",
    "  # Dense Layer 1\n",
    "  W_dense_1 = weight_variable([7 * 7 * 16, num_hidden])\n",
    "  W_dense_1_bias = bias_variable([num_hidden])\n",
    "\n",
    "  # Dense Layer 2\n",
    "  W_dense_2 = weight_variable([num_hidden, num_labels])\n",
    "  W_dense_2_bias = bias_variable([num_labels])\n",
    "  \n",
    "  # Model.\n",
    "  def model(data):\n",
    "    # define a simple network with \n",
    "    # * 2 convolutional layers with 5x5 filters each using stride 2 and zero padding\n",
    "    # * one fully connected layer\n",
    "    # return the logits (last layer)\n",
    "\n",
    "    conv_1_out = tf.nn.relu(tf.nn.conv2d(data, W_conv_1, [1, 2, 2, 1], 'SAME') + W_bias_1)\n",
    "    conv_2_out = tf.nn.relu(tf.nn.conv2d(conv_1_out, W_conv_2, [1, 2, 2, 1], 'SAME') + W_bias_2)\n",
    "\n",
    "    # Flatten\n",
    "    flat = tf.reshape(conv_2_out, [-1, 7 * 7 * 16])\n",
    "\n",
    "    dense_1_out = tf.nn.relu(tf.matmul(flat, W_dense_1) + W_dense_1_bias)   \n",
    "    logits = tf.matmul(dense_1_out, W_dense_2) + W_dense_2_bias\n",
    "\n",
    "    return logits\n",
    "\n",
    "  def compute_loss(labels, logits):\n",
    "    entropy_loss = tf.nn.softmax_cross_entropy_with_logits(logits=logits, labels=labels)\n",
    "    return tf.reduce_mean(entropy_loss)\n",
    "  \n",
    "  # Training computation.\n",
    "  logits = model(tf_train_dataset)\n",
    "  loss = compute_loss(tf_train_labels, logits)\n",
    "    \n",
    "  # Optimizer.\n",
    "  optimizer = tf.train.GradientDescentOptimizer(0.05).minimize(loss)\n",
    "  \n",
    "  # Predictions for the training, validation, and test data.\n",
    "  train_prediction = tf.nn.softmax(logits)\n",
    "  valid_prediction = tf.nn.softmax(model(tf_valid_dataset))\n",
    "  test_prediction = tf.nn.softmax(model(tf_test_dataset))"
   ],
   "execution_count": 6,
   "outputs": [
    {
     "output_type": "stream",
     "name": "stdout",
     "text": "WARNING:tensorflow:From /home/ivanasen/Tools/anaconda3/envs/py3.6/lib/python3.6/site-packages/tensorflow/python/framework/op_def_library.py:263: colocate_with (from tensorflow.python.framework.ops) is deprecated and will be removed in a future version.\nInstructions for updating:\nColocations handled automatically by placer.\nWARNING:tensorflow:From <ipython-input-6-73cf89e08d9c>:52: softmax_cross_entropy_with_logits (from tensorflow.python.ops.nn_ops) is deprecated and will be removed in a future version.\nInstructions for updating:\n\nFuture major versions of TensorFlow will allow gradients to flow\ninto the labels input on backprop by default.\n\nSee `tf.nn.softmax_cross_entropy_with_logits_v2`.\n\n"
    }
   ]
  },
  {
   "cell_type": "markdown",
   "metadata": {
    "id": "ZkzpbHET-m8S",
    "colab_type": "text"
   },
   "source": [
    "### 1.3 - Measure the accuracy and tune your model\n",
    "\n",
    "Run the snippet bellow to measure the accuracy of your model. Try to achieve a test accuracy of around 80%. Iterate on the filters size."
   ]
  },
  {
   "cell_type": "code",
   "metadata": {
    "cellView": "both",
    "colab_type": "code",
    "id": "noKFb2UovVFR",
    "colab": {}
   },
   "source": [
    "num_steps = 1001\n",
    "\n",
    "def train(graph):\n",
    "  with tf.Session(graph=graph) as session:\n",
    "    tf.global_variables_initializer().run()\n",
    "\n",
    "    print('Initialized')\n",
    "    \n",
    "    for step in range(num_steps):\n",
    "      offset = (step * batch_size) % (train_labels.shape[0] - batch_size)\n",
    "      batch_data = train_dataset[offset:(offset + batch_size), :, :, :]\n",
    "      batch_labels = train_labels[offset:(offset + batch_size), :]\n",
    "      feed_dict = {tf_train_dataset : batch_data, tf_train_labels : batch_labels}\n",
    "      _, l, predictions = session.run(\n",
    "        [optimizer, loss, train_prediction], feed_dict=feed_dict)\n",
    "      if (step % 50 == 0):\n",
    "        print(f'Minibatch loss at step {step}: {l}')\n",
    "        print('Minibatch accuracy: %.1f%%' % accuracy(predictions, batch_labels))\n",
    "        print('Validation accuracy: %.1f%%' % accuracy(valid_prediction.eval(), valid_labels))\n",
    "    print('Test accuracy: %.1f%%' % accuracy(test_prediction.eval(), test_labels))\n",
    "\n",
    "train(graph)"
   ],
   "execution_count": 8,
   "outputs": [
    {
     "output_type": "stream",
     "name": "stdout",
     "text": "Initialized\nMinibatch loss at step 0: 2.359065532684326\nMinibatch accuracy: 6.2%\nValidation accuracy: 8.6%\nMinibatch loss at step 50: 1.240371823310852\nMinibatch accuracy: 62.5%\nValidation accuracy: 61.4%\nMinibatch loss at step 100: 0.774763822555542\nMinibatch accuracy: 62.5%\nValidation accuracy: 72.5%\nMinibatch loss at step 150: 1.005746603012085\nMinibatch accuracy: 68.8%\nValidation accuracy: 77.9%\nMinibatch loss at step 200: 0.38376083970069885\nMinibatch accuracy: 93.8%\nValidation accuracy: 77.1%\nMinibatch loss at step 250: 1.0869067907333374\nMinibatch accuracy: 62.5%\nValidation accuracy: 78.8%\nMinibatch loss at step 300: 0.8521561622619629\nMinibatch accuracy: 81.2%\nValidation accuracy: 79.6%\nMinibatch loss at step 350: 0.767396092414856\nMinibatch accuracy: 81.2%\nValidation accuracy: 79.5%\nMinibatch loss at step 400: 0.4156121611595154\nMinibatch accuracy: 87.5%\nValidation accuracy: 81.3%\nMinibatch loss at step 450: 0.5136798620223999\nMinibatch accuracy: 75.0%\nValidation accuracy: 80.4%\nMinibatch loss at step 500: 0.9427832365036011\nMinibatch accuracy: 68.8%\nValidation accuracy: 81.5%\nMinibatch loss at step 550: 0.33950239419937134\nMinibatch accuracy: 81.2%\nValidation accuracy: 81.8%\nMinibatch loss at step 600: 0.7639949321746826\nMinibatch accuracy: 68.8%\nValidation accuracy: 82.5%\nMinibatch loss at step 650: 1.2863640785217285\nMinibatch accuracy: 81.2%\nValidation accuracy: 82.8%\nMinibatch loss at step 700: 0.29930758476257324\nMinibatch accuracy: 93.8%\nValidation accuracy: 82.7%\nMinibatch loss at step 750: 0.910535454750061\nMinibatch accuracy: 68.8%\nValidation accuracy: 82.2%\nMinibatch loss at step 800: 0.9390119910240173\nMinibatch accuracy: 75.0%\nValidation accuracy: 82.7%\nMinibatch loss at step 850: 0.07719169557094574\nMinibatch accuracy: 100.0%\nValidation accuracy: 83.1%\nMinibatch loss at step 900: 1.2750225067138672\nMinibatch accuracy: 56.2%\nValidation accuracy: 83.2%\nMinibatch loss at step 950: 0.4249778687953949\nMinibatch accuracy: 81.2%\nValidation accuracy: 83.5%\nMinibatch loss at step 1000: 0.43619999289512634\nMinibatch accuracy: 87.5%\nValidation accuracy: 83.2%\nTest accuracy: 89.5%\n"
    }
   ]
  },
  {
   "cell_type": "markdown",
   "metadata": {
    "colab_type": "text",
    "id": "KedKkn4EutIK"
   },
   "source": [
    "---\n",
    "Problem 2\n",
    "---------\n",
    "\n",
    "The convolutional model above uses convolutions with stride 2 to reduce the dimensionality. Replace the strides by a max pooling operation (`nn.max_pool()`) of stride 2 and kernel size 2.\n",
    "\n",
    "---"
   ]
  },
  {
   "cell_type": "code",
   "execution_count": 9,
   "metadata": {},
   "outputs": [],
   "source": [
    "batch_size = 16\n",
    "patch_size = 5\n",
    "depth = 16 # Number of filters?\n",
    "num_hidden = 64 # Size of the fully connected layer?\n",
    "\n",
    "graph_pool = tf.Graph()\n",
    "\n",
    "with graph_pool.as_default():\n",
    "\n",
    "  # Input data.\n",
    "  tf_train_dataset = tf.placeholder(\n",
    "    tf.float32, shape=(batch_size, image_size, image_size, num_channels))\n",
    "  tf_train_labels = tf.placeholder(tf.float32, shape=(batch_size, num_labels))\n",
    "  tf_valid_dataset = tf.constant(valid_dataset)\n",
    "  tf_test_dataset = tf.constant(test_dataset)\n",
    "\n",
    "  # Convolutional Layer 1\n",
    "  W_conv_1 = weight_variable([patch_size, patch_size, 1, depth])\n",
    "  W_bias_1 = bias_variable([depth])\n",
    "\n",
    "  # Convolutional Layer 2\n",
    "  W_conv_2 = weight_variable([patch_size, patch_size, depth, depth])\n",
    "  W_bias_2 = bias_variable([depth])\n",
    "  \n",
    "  # Dense Layer 1\n",
    "  W_dense_1 = weight_variable([7 * 7 * 16, num_hidden])\n",
    "  W_dense_1_bias = bias_variable([num_hidden])\n",
    "\n",
    "  # Dense Layer 2\n",
    "  W_dense_2 = weight_variable([num_hidden, num_labels])\n",
    "  W_dense_2_bias = bias_variable([num_labels])\n",
    "  \n",
    "  # Model.\n",
    "  def model(data):\n",
    "    # define a simple network with \n",
    "    # * 2 convolutional layers with 5x5 filters each using stride 2 and zero padding\n",
    "    # * one fully connected layer\n",
    "    # return the logits (last layer)\n",
    "\n",
    "    # print(data.shape)\n",
    "\n",
    "    conv_1_out = tf.nn.relu(tf.nn.conv2d(data, W_conv_1, [1, 1, 1, 1], 'SAME') + W_bias_1)\n",
    "    pool_1_out = tf.nn.max_pool(conv_1_out, [1, 2, 2, 1], [1, 2, 2, 1], 'SAME')\n",
    "    \n",
    "    conv_2_out = tf.nn.relu(tf.nn.conv2d(pool_1_out, W_conv_2, [1, 1, 1, 1], 'SAME') + W_bias_2)\n",
    "    pool_2_out = tf.nn.max_pool(conv_2_out, [1, 2, 2, 1], [1, 2, 2, 1], 'SAME')    \n",
    "\n",
    "    # Flatten\n",
    "    flat = tf.reshape(pool_2_out, [-1, 7 * 7 * 16])\n",
    "\n",
    "    dense_1_out = tf.nn.relu(tf.matmul(flat, W_dense_1) + W_dense_1_bias)   \n",
    "    logits = tf.matmul(dense_1_out, W_dense_2) + W_dense_2_bias\n",
    "\n",
    "    return logits\n",
    "\n",
    "  def compute_loss(labels, logits):\n",
    "    entropy_loss = tf.nn.softmax_cross_entropy_with_logits(logits=logits, labels=labels)\n",
    "    return tf.reduce_mean(entropy_loss)\n",
    "  \n",
    "  # Training computation.\n",
    "  logits = model(tf_train_dataset)\n",
    "  loss = compute_loss(tf_train_labels, logits)\n",
    "    \n",
    "  # Optimizer.\n",
    "  optimizer = tf.train.GradientDescentOptimizer(0.05).minimize(loss)\n",
    "  \n",
    "  # Predictions for the training, validation, and test data.\n",
    "  train_prediction = tf.nn.softmax(logits)\n",
    "  valid_prediction = tf.nn.softmax(model(tf_valid_dataset))\n",
    "  test_prediction = tf.nn.softmax(model(tf_test_dataset))"
   ]
  },
  {
   "cell_type": "code",
   "execution_count": 10,
   "metadata": {},
   "outputs": [
    {
     "output_type": "stream",
     "name": "stdout",
     "text": "Initialized\nMinibatch loss at step 0: 2.4277544021606445\nMinibatch accuracy: 6.2%\nValidation accuracy: 11.3%\nMinibatch loss at step 50: 1.0799548625946045\nMinibatch accuracy: 50.0%\nValidation accuracy: 67.8%\nMinibatch loss at step 100: 0.4472557306289673\nMinibatch accuracy: 87.5%\nValidation accuracy: 76.2%\nMinibatch loss at step 150: 1.231231451034546\nMinibatch accuracy: 68.8%\nValidation accuracy: 78.4%\nMinibatch loss at step 200: 0.35008007287979126\nMinibatch accuracy: 93.8%\nValidation accuracy: 78.9%\nMinibatch loss at step 250: 0.9800199270248413\nMinibatch accuracy: 62.5%\nValidation accuracy: 81.0%\nMinibatch loss at step 300: 0.8217359781265259\nMinibatch accuracy: 75.0%\nValidation accuracy: 81.4%\nMinibatch loss at step 350: 0.6700751781463623\nMinibatch accuracy: 75.0%\nValidation accuracy: 78.6%\nMinibatch loss at step 400: 0.31000223755836487\nMinibatch accuracy: 87.5%\nValidation accuracy: 82.1%\nMinibatch loss at step 450: 0.5179429054260254\nMinibatch accuracy: 81.2%\nValidation accuracy: 81.7%\nMinibatch loss at step 500: 1.1357415914535522\nMinibatch accuracy: 75.0%\nValidation accuracy: 82.3%\nMinibatch loss at step 550: 0.22069689631462097\nMinibatch accuracy: 93.8%\nValidation accuracy: 82.4%\nMinibatch loss at step 600: 0.7230310440063477\nMinibatch accuracy: 75.0%\nValidation accuracy: 83.0%\nMinibatch loss at step 650: 1.0555185079574585\nMinibatch accuracy: 81.2%\nValidation accuracy: 83.2%\nMinibatch loss at step 700: 0.3964448571205139\nMinibatch accuracy: 93.8%\nValidation accuracy: 83.6%\nMinibatch loss at step 750: 0.8411877155303955\nMinibatch accuracy: 56.2%\nValidation accuracy: 83.9%\nMinibatch loss at step 800: 0.8410621881484985\nMinibatch accuracy: 75.0%\nValidation accuracy: 84.5%\nMinibatch loss at step 850: 0.04643626511096954\nMinibatch accuracy: 100.0%\nValidation accuracy: 84.6%\nMinibatch loss at step 900: 1.3565256595611572\nMinibatch accuracy: 62.5%\nValidation accuracy: 84.2%\nMinibatch loss at step 950: 0.29783111810684204\nMinibatch accuracy: 93.8%\nValidation accuracy: 84.8%\nMinibatch loss at step 1000: 0.4319643974304199\nMinibatch accuracy: 93.8%\nValidation accuracy: 85.1%\nTest accuracy: 91.2%\n"
    }
   ],
   "source": [
    "train(graph_pool)"
   ]
  },
  {
   "cell_type": "markdown",
   "metadata": {
    "colab_type": "text",
    "id": "klf21gpbAgb-"
   },
   "source": [
    "---\n",
    "Problem 3\n",
    "---------\n",
    "\n",
    "Try to get the best performance you can using a convolutional net. Look for example at the classic [LeNet5](http://yann.lecun.com/exdb/lenet/) architecture, adding Dropout, and/or adding learning rate decay.\n",
    "\n",
    "---"
   ]
  },
  {
   "cell_type": "code",
   "execution_count": null,
   "metadata": {},
   "outputs": [],
   "source": []
  }
 ],
 "metadata": {
  "colab": {
   "name": "cnn.ipynb",
   "provenance": []
  },
  "kernelspec": {
   "name": "python3",
   "language": "python",
   "display_name": "Python 3"
  },
  "language_info": {
   "codemirror_mode": {
    "name": "ipython",
    "version": 3
   },
   "file_extension": ".py",
   "mimetype": "text/x-python",
   "name": "python",
   "nbconvert_exporter": "python",
   "pygments_lexer": "ipython3",
   "version": "3.6.10-final"
  }
 },
 "nbformat": 4,
 "nbformat_minor": 0
}